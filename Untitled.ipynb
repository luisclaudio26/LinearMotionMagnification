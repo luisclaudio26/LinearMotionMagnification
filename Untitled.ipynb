{
 "cells": [
  {
   "cell_type": "code",
   "execution_count": 1,
   "metadata": {},
   "outputs": [
    {
     "data": {
      "text/plain": [
       "3-element Array{Any,1}:\n",
       " \"/home/Cook/Software/julia-d386e40c17/local/share/julia/site/v0.6\"\n",
       " \"/home/Cook/Software/julia-d386e40c17/share/julia/site/v0.6\"      \n",
       " \".\"                                                               "
      ]
     },
     "execution_count": 1,
     "metadata": {},
     "output_type": "execute_result"
    }
   ],
   "source": [
    "push!(LOAD_PATH, \".\")"
   ]
  },
  {
   "cell_type": "code",
   "execution_count": 11,
   "metadata": {},
   "outputs": [],
   "source": [
    "using MotionMagnifier\n",
    "using Images, ImageView\n",
    "\n",
    "using MotionMagnifier.RingBuffer\n",
    "using MotionMagnifier.Frame64\n",
    "using MotionMagnifier.FrameBlock\n",
    "using MotionMagnifier.advance_block\n",
    "using MotionMagnifier.output_single_frame\n",
    "using MotionMagnifier.grab_frame_from_video\n",
    "using MotionMagnifier.YIQtoRGB"
   ]
  },
  {
   "cell_type": "code",
   "execution_count": null,
   "metadata": {},
   "outputs": [],
   "source": []
  },
  {
   "cell_type": "code",
   "execution_count": 3,
   "metadata": {},
   "outputs": [
    {
     "data": {
      "text/plain": [
       "temporal_filter (generic function with 1 method)"
      ]
     },
     "execution_count": 3,
     "metadata": {},
     "output_type": "execute_result"
    }
   ],
   "source": [
    "function temporal_filter(rb::RingBuffer, \n",
    "                            block::FrameBlock, \n",
    "                            filter::Function, \n",
    "                            frame0::Frame64)::Frame64\n",
    "    out = Frame64(rb.dim...)\n",
    "    \n",
    "    # for each pixel position, collect time-series\n",
    "    # (i.e. the pixel values in the same positions\n",
    "    # across the block) and filter it\n",
    "    for i in 1:rb.dim[1], j in 1:rb.dim[2]\n",
    "        \n",
    "        time_series = Vector{Float64}(rb.blocksz)\n",
    "        \n",
    "        # remember that block is a circular buffer and\n",
    "        # we wanna take n÷2 elements to the left and to the\n",
    "        # right, thus we need to get the index of the central\n",
    "        # element (vp.block_current), take the offset to the\n",
    "        # element we want (..., -2, -1, 0, 1, 2, ...) and wrap\n",
    "        # ir around the size of the block. For example:\n",
    "        #\n",
    "        # block = [9 10 6 7 8]\n",
    "        # block_current = 4\n",
    "        #\n",
    "        # so we want to take 2 elements to the left of the\n",
    "        # (4+1)th element (frame 8) and 2 to the right.\n",
    "        #\n",
    "        # 4-2 mod 5 = 2 -> frame 6\n",
    "        # 4-1 mod 5 = 3 -> frame 7\n",
    "        # 4+0 mod 5 = 4 -> frame 8\n",
    "        # 4+1 mod 5 = 0 -> frame 9\n",
    "        # 4+2 mod 5 = 1 -> frame 10\n",
    "        #\n",
    "        # we store the frames in this order inside time_series\n",
    "        # so we can safely apply a filter to it now\n",
    "        sup_radius = rb.blocksz ÷ 2 ; idx = 1\n",
    "        for k in -sup_radius : sup_radius\n",
    "            # modular arithmetic in Julia defines the modulus\n",
    "            # of a negative number as -(|x mod N|), i.e., modulus\n",
    "            # operator won't wrap around to positive numbers when\n",
    "            # argument is negative. If this is the case, we fix by\n",
    "            # computing N - |(x mod N)| = N + (x mod N).\n",
    "            p = (rb.current+k) % rb.blocksz\n",
    "            if( p < 0 ) p = rb.blocksz + p end\n",
    "            \n",
    "            time_series[idx] = block[p+1][i,j]\n",
    "            idx = idx + 1\n",
    "        end\n",
    "        \n",
    "        # apply Wadhwah's non-linear filtering\n",
    "        out[i,j] = filter(time_series) - frame0[i,j]\n",
    "    end\n",
    "    \n",
    "    return out\n",
    "end"
   ]
  },
  {
   "cell_type": "code",
   "execution_count": 4,
   "metadata": {},
   "outputs": [
    {
     "data": {
      "text/plain": [
       "process_frame (generic function with 1 method)"
      ]
     },
     "execution_count": 4,
     "metadata": {},
     "output_type": "execute_result"
    }
   ],
   "source": [
    "function process_frame(rb::RingBuffer, \n",
    "                        α::Float64, n_laplacian::Int64, \n",
    "                        filter::Function, filter_support::Int64, \n",
    "                        frame0::Frame64)\n",
    "    out = zeros(rb.dim...)\n",
    "    last_level = copy(rb.frame_block)\n",
    "    f0 = copy(frame0)\n",
    "    blurred = FrameBlock(rb.blocksz)    \n",
    "    \n",
    "    for i in 1:n_laplacian\n",
    "        \n",
    "        band = last_level\n",
    "        f0_band = f0\n",
    "        \n",
    "        # if we haven't reached the last level of the pyramid,\n",
    "        # we need to compute a blurred version of last_level\n",
    "        # and subtract it to obtain the bandpassed version.\n",
    "        # if i == n_laplacian, this last_level contains the\n",
    "        # lowpassed residual and we do nothing\n",
    "        if i < n_laplacian\n",
    "            # filter each frame inside block individually AND frame0\n",
    "            # TODO: experiment with other filters and supports!!!\n",
    "            f0_g = imfilter(f0, Kernel.gaussian(2))\n",
    "            \n",
    "            # TODO: why can't I just use imfilter.()?\n",
    "            for f in 1:rb.blocksz\n",
    "                blurred[f] = imfilter(last_level[f], Kernel.gaussian(2))\n",
    "            end\n",
    "            \n",
    "            # band stores the last level, so doing\n",
    "            # band - blurred computes the current Laplacian\n",
    "            # level we want\n",
    "            band = band .- blurred\n",
    "            f0_band = f0 .- f0_g\n",
    "            \n",
    "            # for the next iteration, our last_level is the\n",
    "            # blured version of the current level\n",
    "            last_level .= blurred\n",
    "            f0 .= f0_g\n",
    "        end\n",
    "        \n",
    "        # band now has the bandpassed frame block and we\n",
    "        # can temporally filter it\n",
    "        filtered_band = temporal_filter(rb, band, filter, f0_band)\n",
    "        \n",
    "        # accumulate to the final frame we're composing\n",
    "        out += band[rb.current+1] + α .* filtered_band\n",
    "    end\n",
    "    \n",
    "    return out\n",
    "end"
   ]
  },
  {
   "cell_type": "code",
   "execution_count": 5,
   "metadata": {},
   "outputs": [
    {
     "data": {
      "text/plain": [
       "process_video (generic function with 1 method)"
      ]
     },
     "execution_count": 5,
     "metadata": {},
     "output_type": "execute_result"
    }
   ],
   "source": [
    "function process_video(frame_grabber::Function, n_frames::Int64,\n",
    "                        α::Float64, n_laplacian::Int64, \n",
    "                        filter::Function, filter_support::Int64,\n",
    "                        path::String)\n",
    "    # target path\n",
    "    if(!isdir(path)) mkdir(path) end\n",
    "    \n",
    "    # we won't deal with border cases\n",
    "    n_frames_out = n_frames - (filter_support - 1)\n",
    "    \n",
    "    # preload as many frames as needed \n",
    "    # for the ring buffers initialization\n",
    "    initY = FrameBlock(filter_support)\n",
    "    initI = FrameBlock(filter_support)\n",
    "    initQ = FrameBlock(filter_support)\n",
    "    for i in 1:filter_support\n",
    "        initY[i], initI[i], initQ[i] = frame_grabber(i)\n",
    "    end\n",
    "    \n",
    "    # create ring buffers\n",
    "    Y = RingBuffer(filter_support, initY)\n",
    "    I = RingBuffer(filter_support, initI)\n",
    "    Q = RingBuffer(filter_support, initQ)\n",
    "    \n",
    "    # force cleanup to save memory\n",
    "    initY, initI, initQ = nothing, nothing, nothing\n",
    "    gc()\n",
    "    \n",
    "    # in particular, we need frame ZERO for motion magnification\n",
    "    frame0 = Y.frame_block[1]\n",
    "    \n",
    "    # main loop: process -> output -> load frame -> advance.\n",
    "    # we'll need an extra step after this loop for the last frame\n",
    "    for i in 1:(n_frames_out-1)\n",
    "        y_ = process_frame(Y, α, n_laplacian, filter, filter_support, frame0)\n",
    "        \n",
    "        # TODO: rebuild three-channel frame before outputting it\n",
    "        r, g, b = YIQtoRGB(y_, I.frame_block[I.current+1], Q.frame_block[Q.current+1])\n",
    "        output_single_frame((r,g,b), i, path, false)\n",
    "        \n",
    "        # load next and advance buffers\n",
    "        next_y, next_i, next_q = frame_grabber(filter_support+i)\n",
    "        advance_block(Y, next_y)\n",
    "        advance_block(I, next_i)\n",
    "        advance_block(Q, next_q)\n",
    "    end\n",
    "    \n",
    "    #TODO: process last frame\n",
    "end"
   ]
  },
  {
   "cell_type": "code",
   "execution_count": null,
   "metadata": {},
   "outputs": [],
   "source": []
  },
  {
   "cell_type": "code",
   "execution_count": null,
   "metadata": {},
   "outputs": [],
   "source": []
  },
  {
   "cell_type": "code",
   "execution_count": 7,
   "metadata": {},
   "outputs": [
    {
     "data": {
      "text/plain": [
       "box_5 (generic function with 1 method)"
      ]
     },
     "execution_count": 7,
     "metadata": {},
     "output_type": "execute_result"
    }
   ],
   "source": [
    "function box_5(f::Vector{Float64})\n",
    "    @assert length(f) == 5\n",
    "    return sum(f)/5\n",
    "end"
   ]
  },
  {
   "cell_type": "code",
   "execution_count": 13,
   "metadata": {},
   "outputs": [
    {
     "name": "stderr",
     "output_type": "stream",
     "text": [
      "ffmpeg version 2.8.14-0ubuntu0.16.04.1 Copyright (c) 2000-2018 the FFmpeg developers\n",
      "  built with gcc 5.4.0 (Ubuntu 5.4.0-6ubuntu1~16.04.9) 20160609\n",
      "  configuration: --prefix=/usr --extra-version=0ubuntu0.16.04.1 --build-suffix=-ffmpeg --toolchain=hardened --libdir=/usr/lib/x86_64-linux-gnu --incdir=/usr/include/x86_64-linux-gnu --cc=cc --cxx=g++ --enable-gpl --enable-shared --disable-stripping --disable-decoder=libopenjpeg --disable-decoder=libschroedinger --enable-avresample --enable-avisynth --enable-gnutls --enable-ladspa --enable-libass --enable-libbluray --enable-libbs2b --enable-libcaca --enable-libcdio --enable-libflite --enable-libfontconfig --enable-libfreetype --enable-libfribidi --enable-libgme --enable-libgsm --enable-libmodplug --enable-libmp3lame --enable-libopenjpeg --enable-libopus --enable-libpulse --enable-librtmp --enable-libschroedinger --enable-libshine --enable-libsnappy --enable-libsoxr --enable-libspeex --enable-libssh --enable-libtheora --enable-libtwolame --enable-libvorbis --enable-libvpx --enable-libwavpack --enable-libwebp --enable-libx265 --enable-libxvid --enable-libzvbi --enable-openal --enable-opengl --enable-x11grab --enable-libdc1394 --enable-libiec61883 --enable-libzmq --enable-frei0r --enable-libx264 --enable-libopencv\n",
      "  libavutil      54. 31.100 / 54. 31.100\n",
      "  libavcodec     56. 60.100 / 56. 60.100\n",
      "  libavformat    56. 40.101 / 56. 40.101\n",
      "  libavdevice    56.  4.100 / 56.  4.100\n",
      "  libavfilter     5. 40.101 /  5. 40.101\n",
      "  libavresample   2.  1.  0 /  2.  1.  0\n",
      "  libswscale      3.  1.101 /  3.  1.101\n",
      "  libswresample   1.  2.101 /  1.  2.101\n",
      "  libpostproc    53.  3.100 / 53.  3.100\n",
      "Input #0, mov,mp4,m4a,3gp,3g2,mj2, from './data/baby.mp4':\n",
      "  Metadata:\n",
      "    major_brand     : mp42\n",
      "    minor_version   : 0\n",
      "    compatible_brands: mp42isomavc1\n",
      "    creation_time   : 2012-06-12 18:58:23\n",
      "    encoder         : HandBrake 0.9.6 2012022800\n",
      "  Duration: 00:00:10.03, start: 0.000000, bitrate: 1466 kb/s\n",
      "    Stream #0:0(und): Video: h264 (Main) (avc1 / 0x31637661), yuv420p(tv, smpte170m/smpte170m/bt709), 960x544, 1462 kb/s, 30 fps, 30 tbr, 90k tbn, 60 tbc (default)\n",
      "    Metadata:\n",
      "      creation_time   : 2012-06-12 18:58:23\n",
      "      encoder         : JVT/AVC Coding\n",
      "Output #0, image2, to './read_tmp/tmp_%05d.png':\n",
      "  Metadata:\n",
      "    major_brand     : mp42\n",
      "    minor_version   : 0\n",
      "    compatible_brands: mp42isomavc1\n",
      "    encoder         : Lavf56.40.101\n",
      "    Stream #0:0(und): Video: png, rgb24, 960x544, q=2-31, 200 kb/s, 30 fps, 30 tbn, 30 tbc (default)\n",
      "    Metadata:\n",
      "      creation_time   : 2012-06-12 18:58:23\n",
      "      encoder         : Lavc56.60.100 png\n",
      "Stream mapping:\n",
      "  Stream #0:0 -> #0:0 (h264 (native) -> png (native))\n",
      "Press [q] to stop, [?] for help\n",
      "frame=  301 fps= 60 q=-0.0 Lsize=N/A time=00:00:10.03 bitrate=N/A    \n",
      "video:178610kB audio:0kB subtitle:0kB other streams:0kB global headers:0kB muxing overhead: unknown\n"
     ]
    },
    {
     "data": {
      "text/plain": [
       "(301, (544, 960))"
      ]
     },
     "execution_count": 13,
     "metadata": {},
     "output_type": "execute_result"
    }
   ],
   "source": [
    "n_frames, dims = MotionMagnifier.read_video(\"./data/baby.mp4\")"
   ]
  },
  {
   "cell_type": "code",
   "execution_count": 14,
   "metadata": {},
   "outputs": [
    {
     "data": {
      "text/plain": [
       "5.0"
      ]
     },
     "execution_count": 14,
     "metadata": {},
     "output_type": "execute_result"
    }
   ],
   "source": [
    "fps = 30.0 #TODO: extract from video\n",
    "α = 5.0"
   ]
  },
  {
   "cell_type": "code",
   "execution_count": 15,
   "metadata": {},
   "outputs": [],
   "source": [
    "grabber(i) = grab_frame_from_video(i, n_frames)\n",
    "process_video(grabber, n_frames, α, 5, box_5, 5, \"./test\")"
   ]
  },
  {
   "cell_type": "code",
   "execution_count": 16,
   "metadata": {},
   "outputs": [],
   "source": [
    "MotionMagnifier.build_video(\"babyMM\", \"./test\", 30.0)"
   ]
  }
 ],
 "metadata": {
  "kernelspec": {
   "display_name": "Julia 0.6.2",
   "language": "julia",
   "name": "julia-0.6"
  },
  "language_info": {
   "file_extension": ".jl",
   "mimetype": "application/julia",
   "name": "julia",
   "version": "0.6.2"
  }
 },
 "nbformat": 4,
 "nbformat_minor": 2
}
