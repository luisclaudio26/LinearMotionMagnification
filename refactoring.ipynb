{
 "cells": [
  {
   "cell_type": "code",
   "execution_count": 1,
   "metadata": {
    "collapsed": false
   },
   "outputs": [
    {
     "data": {
      "text/plain": [
       "3-element Array{Any,1}:\n",
       " \"/home/luis/Software/julia-0.6.3-linux-x86_64/julia-d55cadc350/local/share/julia/site/v0.6\"\n",
       " \"/home/luis/Software/julia-0.6.3-linux-x86_64/julia-d55cadc350/share/julia/site/v0.6\"      \n",
       " \".\"                                                                                        "
      ]
     },
     "execution_count": 1,
     "metadata": {},
     "output_type": "execute_result"
    }
   ],
   "source": [
    "push!(LOAD_PATH, \".\")"
   ]
  },
  {
   "cell_type": "code",
   "execution_count": 2,
   "metadata": {
    "collapsed": true
   },
   "outputs": [],
   "source": [
    "using MotionMagnifier\n",
    "using Images, ImageView"
   ]
  },
  {
   "cell_type": "code",
   "execution_count": 3,
   "metadata": {
    "collapsed": false
   },
   "outputs": [
    {
     "name": "stderr",
     "output_type": "stream",
     "text": [
      "ffmpeg version 3.3.4-2 Copyright (c) 2000-2017 the FFmpeg developers\n",
      "  built with gcc 7 (Ubuntu 7.2.0-8ubuntu2)\n",
      "  configuration: --prefix=/usr --extra-version=2 --toolchain=hardened --libdir=/usr/lib/x86_64-linux-gnu --incdir=/usr/include/x86_64-linux-gnu --enable-gpl --disable-stripping --enable-avresample --enable-avisynth --enable-gnutls --enable-ladspa --enable-libass --enable-libbluray --enable-libbs2b --enable-libcaca --enable-libcdio --enable-libflite --enable-libfontconfig --enable-libfreetype --enable-libfribidi --enable-libgme --enable-libgsm --enable-libmp3lame --enable-libopenjpeg --enable-libopenmpt --enable-libopus --enable-libpulse --enable-librubberband --enable-libshine --enable-libsnappy --enable-libsoxr --enable-libspeex --enable-libssh --enable-libtheora --enable-libtwolame --enable-libvorbis --enable-libvpx --enable-libwavpack --enable-libwebp --enable-libx265 --enable-libxvid --enable-libzmq --enable-libzvbi --enable-omx --enable-openal --enable-opengl --enable-sdl2 --enable-libdc1394 --enable-libiec61883 --enable-chromaprint --enable-frei0r --enable-libopencv --enable-libx264 --enable-shared\n",
      "  libavutil      55. 58.100 / 55. 58.100\n",
      "  libavcodec     57. 89.100 / 57. 89.100\n",
      "  libavformat    57. 71.100 / 57. 71.100\n",
      "  libavdevice    57.  6.100 / 57.  6.100\n",
      "  libavfilter     6. 82.100 /  6. 82.100\n",
      "  libavresample   3.  5.  0 /  3.  5.  0\n",
      "  libswscale      4.  6.100 /  4.  6.100\n",
      "  libswresample   2.  7.100 /  2.  7.100\n",
      "  libpostproc    54.  5.100 / 54.  5.100\n",
      "Input #0, mov,mp4,m4a,3gp,3g2,mj2, from './data/guitar.mp4':\n",
      "  Metadata:\n",
      "    major_brand     : mp42\n",
      "    minor_version   : 0\n",
      "    compatible_brands: mp42isomavc1\n",
      "    creation_time   : 2012-06-12T18:59:07.000000Z\n",
      "    encoder         : HandBrake 0.9.6 2012022800\n",
      "  Duration: 00:00:10.01, start: 0.000000, bitrate: 958 kb/s\n",
      "    Stream #0:0(und): Video: h264 (Main) (avc1 / 0x31637661), yuv420p(tv, smpte170m/smpte170m/bt709), 432x192, 953 kb/s, 29.97 fps, 29.97 tbr, 90k tbn, 59.94 tbc (default)\n",
      "    Metadata:\n",
      "      creation_time   : 2012-06-12T18:59:07.000000Z\n",
      "      encoder         : JVT/AVC Coding\n",
      "Stream mapping:\n",
      "  Stream #0:0 -> #0:0 (h264 (native) -> png (native))\n",
      "Press [q] to stop, [?] for help\n",
      "Output #0, image2, to './read_tmp/tmp_%05d.png':\n",
      "  Metadata:\n",
      "    major_brand     : mp42\n",
      "    minor_version   : 0\n",
      "    compatible_brands: mp42isomavc1\n",
      "    encoder         : Lavf57.71.100\n",
      "    Stream #0:0(und): Video: png, rgb24, 432x192, q=2-31, 200 kb/s, 29.97 fps, 29.97 tbn, 29.97 tbc (default)\n",
      "    Metadata:\n",
      "      creation_time   : 2012-06-12T18:59:07.000000Z\n",
      "      encoder         : Lavc57.89.100 png\n",
      "frame=  300 fps=278 q=-0.0 Lsize=N/A time=00:00:10.01 bitrate=N/A speed=9.28x    \n",
      "video:56178kB audio:0kB subtitle:0kB other streams:0kB global headers:0kB muxing overhead: unknown\n"
     ]
    },
    {
     "data": {
      "text/plain": [
       "(894, (192, 432))"
      ]
     },
     "execution_count": 3,
     "metadata": {},
     "output_type": "execute_result"
    }
   ],
   "source": [
    "n_frames, dims = MotionMagnifier.read_video(\"./data/guitar.mp4\")"
   ]
  },
  {
   "cell_type": "code",
   "execution_count": 4,
   "metadata": {
    "collapsed": false
   },
   "outputs": [
    {
     "data": {
      "text/plain": [
       "5.0"
      ]
     },
     "execution_count": 4,
     "metadata": {},
     "output_type": "execute_result"
    }
   ],
   "source": [
    "fps = 30.0 #TODO: extract from video\n",
    "α = 5.0"
   ]
  },
  {
   "cell_type": "code",
   "execution_count": 6,
   "metadata": {
    "collapsed": false
   },
   "outputs": [
    {
     "ename": "LoadError",
     "evalue": "\u001b[91mDimensionMismatch(\"dimensions must match\")\u001b[39m",
     "output_type": "error",
     "traceback": [
      "\u001b[91mDimensionMismatch(\"dimensions must match\")\u001b[39m",
      "",
      "Stacktrace:",
      " [1] \u001b[1mpromote_shape\u001b[22m\u001b[22m\u001b[1m(\u001b[22m\u001b[22m::Tuple{Base.OneTo{Int64},Base.OneTo{Int64}}, ::Tuple{Base.OneTo{Int64},Base.OneTo{Int64}}\u001b[1m)\u001b[22m\u001b[22m at \u001b[1m./indices.jl:79\u001b[22m\u001b[22m",
      " [2] \u001b[1m+\u001b[22m\u001b[22m\u001b[1m(\u001b[22m\u001b[22m::Array{Float64,2}, ::Array{Float64,2}\u001b[1m)\u001b[22m\u001b[22m at \u001b[1m./arraymath.jl:38\u001b[22m\u001b[22m",
      " [3] \u001b[1mprocess_frame\u001b[22m\u001b[22m\u001b[1m(\u001b[22m\u001b[22m::MotionMagnifier.RingBuffer, ::Float64, ::Int64, ::Function, ::Int64, ::Array{Float64,2}, ::Bool\u001b[1m)\u001b[22m\u001b[22m at \u001b[1m/home/luis/Coding/MotionMagnification/MotionMagnifier.jl:259\u001b[22m\u001b[22m",
      " [4] \u001b[1mprocess_video\u001b[22m\u001b[22m\u001b[1m(\u001b[22m\u001b[22m::#grabber, ::Int64, ::Float64, ::Int64, ::Function, ::Int64, ::String, ::Int64, ::Bool\u001b[1m)\u001b[22m\u001b[22m at \u001b[1m/home/luis/Coding/MotionMagnification/MotionMagnifier.jl:303\u001b[22m\u001b[22m",
      " [5] \u001b[1mprocess_video\u001b[22m\u001b[22m\u001b[1m(\u001b[22m\u001b[22m::Function, ::Int64, ::Float64, ::Int64, ::Function, ::Int64, ::String, ::Int64\u001b[1m)\u001b[22m\u001b[22m at \u001b[1m/home/luis/Coding/MotionMagnification/MotionMagnifier.jl:272\u001b[22m\u001b[22m"
     ]
    }
   ],
   "source": [
    "grabber(i) = MotionMagnifier.grab_frame_from_video(i, n_frames)\n",
    "MotionMagnifier.process_video(grabber, n_frames, α, 5, MotionMagnifier.box_5, 5, \"./test\", 1)"
   ]
  },
  {
   "cell_type": "code",
   "execution_count": null,
   "metadata": {
    "collapsed": true
   },
   "outputs": [],
   "source": []
  },
  {
   "cell_type": "code",
   "execution_count": null,
   "metadata": {
    "collapsed": true
   },
   "outputs": [],
   "source": []
  }
 ],
 "metadata": {
  "kernelspec": {
   "display_name": "Julia 0.6.3",
   "language": "julia",
   "name": "julia-0.6"
  },
  "language_info": {
   "file_extension": ".jl",
   "mimetype": "application/julia",
   "name": "julia",
   "version": "0.6.3"
  }
 },
 "nbformat": 4,
 "nbformat_minor": 2
}
